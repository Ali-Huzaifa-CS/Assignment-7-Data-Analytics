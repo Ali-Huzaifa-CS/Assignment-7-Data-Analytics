{
 "cells": [
  {
   "cell_type": "code",
   "execution_count": 1,
   "id": "d5fa2ae9-c1e7-4936-b0a9-19d80d76ce9e",
   "metadata": {},
   "outputs": [
    {
     "name": "stdout",
     "output_type": "stream",
     "text": [
      "Ali\n",
      "0315000011\n",
      "100000\n",
      "BSCS\n"
     ]
    }
   ],
   "source": [
    "class Employee:\n",
    "    def __init__(self,name, number, address, salary, post, yearofjoining, education,experience):\n",
    "        self.name = name\n",
    "        self.number = number\n",
    "        self.address = address\n",
    "        self.salary = salary\n",
    "        self.post = post\n",
    "        self.yearofjoining = yearofjoining\n",
    "        self.education = education\n",
    "        self.experience = experience\n",
    "\n",
    "    def describe_employee(self):\n",
    "        print(\"Employee Details\")\n",
    "        print(\"Name : \", self.name )\n",
    "        print(\"Address : \", self.address)\n",
    "        print(\"Salary : \", self.salary)\n",
    "        print(\"Education : \", self.education)\n",
    "\n",
    "    def update_year_of_experience(self, inc_exp):\n",
    "         self.experience = self.experience + inc_exp\n",
    "         print(\"Updated Experience : \" , self.experience, \"Years\")\n",
    "\n",
    "    def increase_salary(self , increment):\n",
    "        self.salary = self.salary + increment\n",
    "        print(\"Updated Salary : \", self.salary)\n",
    "\n",
    "employee101 = Employee(\"Ali\", \"0315000011\", \"gulshan\", 100000, \"Manager\", 2023, \"BSCS\", 5 )\n",
    "print(employee101.name)\n",
    "print(employee101.number)\n",
    "print(employee101.salary)\n",
    "print(employee101.education)\n"
   ]
  },
  {
   "cell_type": "code",
   "execution_count": 3,
   "id": "0c8bf789-7daf-48bb-a986-dc0de11babd6",
   "metadata": {},
   "outputs": [
    {
     "name": "stdout",
     "output_type": "stream",
     "text": [
      "Employee Details\n",
      "Name :  Ali\n",
      "Address :  gulshan\n",
      "Salary :  100000\n",
      "Education :  BSCS\n"
     ]
    }
   ],
   "source": [
    "employee101.describe_employee()"
   ]
  },
  {
   "cell_type": "code",
   "execution_count": 5,
   "id": "c3ca103f-1985-40b5-9fa9-f96567f62901",
   "metadata": {},
   "outputs": [
    {
     "name": "stdout",
     "output_type": "stream",
     "text": [
      "Updated Experience :  8 Years\n"
     ]
    }
   ],
   "source": [
    "employee101.update_year_of_experience(3)"
   ]
  },
  {
   "cell_type": "code",
   "execution_count": 7,
   "id": "74c3d8f8-999c-496e-862a-7d11180b7245",
   "metadata": {},
   "outputs": [
    {
     "name": "stdout",
     "output_type": "stream",
     "text": [
      "Updated Salary :  150000\n"
     ]
    }
   ],
   "source": [
    "employee101.increase_salary(50000)"
   ]
  },
  {
   "cell_type": "code",
   "execution_count": 9,
   "id": "9882932e-b828-4da8-9b44-db1684665616",
   "metadata": {},
   "outputs": [
    {
     "name": "stdout",
     "output_type": "stream",
     "text": [
      "Employee Details\n",
      "Name :  Ali\n",
      "Address :  Gulshan\n",
      "Salary :  100000\n",
      "Education :  BBA\n",
      "\n",
      "Employee Details\n",
      "Name :  Sufyan\n",
      "Address :  Nazimabad\n",
      "Salary :  50000\n",
      "Education :  BSCS\n",
      "\n",
      "Employee Details\n",
      "Name :  Ahmed\n",
      "Address :  DHA\n",
      "Salary :  200000\n",
      "Education :  BSDM\n",
      "\n",
      "Employee Details\n",
      "Name :  Umer\n",
      "Address :  Jauhar\n",
      "Salary :  25000\n",
      "Education :  BSSE\n",
      "\n",
      "Employee Details\n",
      "Name :  Rafay\n",
      "Address :  Gulshan\n",
      "Salary :  150000\n",
      "Education :  BSDS\n",
      "\n",
      "Employee Details\n",
      "Name :  Murtaza\n",
      "Address :  Clifton\n",
      "Salary :  60000\n",
      "Education :  BSIT\n",
      "\n",
      "Employee Details\n",
      "Name :  Jawaid\n",
      "Address :  F.B Area\n",
      "Salary :  75000\n",
      "Education :  BCOM\n",
      "\n",
      "Employee Details\n",
      "Name :  Maryam\n",
      "Address :  Gulberg\n",
      "Salary :  30000\n",
      "Education :  BSCS\n",
      "\n",
      "Employee Details\n",
      "Name :  Ayan\n",
      "Address :  Nazimabad\n",
      "Salary :  80000\n",
      "Education :  BBA\n",
      "\n",
      "Employee Details\n",
      "Name :  Sara\n",
      "Address :  DHA\n",
      "Salary :  500000\n",
      "Education :  BSDS\n",
      "\n"
     ]
    }
   ],
   "source": [
    "employee_list = [Employee(\"Ali\", \"0315000011\", \"Gulshan\", 100000, \"Manager\", 2023, \"BBA\", 5 ),\n",
    "                Employee(\"Sufyan\", \"0315000011\", \"Nazimabad\", 50000, \"Developer\", 2023, \"BSCS\", 5 ),\n",
    "                Employee(\"Ahmed\", \"0315000011\", \"DHA\", 200000, \"Sales Manager\", 2023, \"BSDM\", 5 ),\n",
    "                Employee(\"Umer\", \"0315000011\", \"Jauhar\", 25000, \"Developer\", 2023, \"BSSE\", 5 ),\n",
    "                Employee(\"Rafay\", \"0315000011\", \"Gulshan\", 150000, \"Data Analyst\", 2023, \"BSDS\", 5 ),\n",
    "                Employee(\"Murtaza\", \"0315000011\", \"Clifton\", 60000, \"IT Dep\", 2023, \"BSIT\", 5 ),\n",
    "                Employee(\"Jawaid\", \"0315000011\", \"F.B Area\", 75000, \"Sales\", 2023, \"BCOM\", 5 ),\n",
    "                Employee(\"Maryam\", \"0315000011\", \"Gulberg\", 30000, \"Developer\", 2023, \"BSCS\", 5 ),\n",
    "                Employee(\"Ayan\", \"0315000011\", \"Nazimabad\", 80000, \"HR Manager\", 2023, \"BBA\", 5 ),\n",
    "                Employee(\"Sara\", \"0315000011\", \"DHA\", 500000, \"Data Scientist\", 2023, \"BSDS\", 5 )\n",
    "                ]\n",
    "\n",
    "for emp in employee_list:\n",
    "    emp.describe_employee()\n",
    "    print()\n",
    "    \n"
   ]
  },
  {
   "cell_type": "code",
   "execution_count": null,
   "id": "62e17332-46aa-401b-bff0-a2ffedf506d1",
   "metadata": {},
   "outputs": [],
   "source": []
  }
 ],
 "metadata": {
  "kernelspec": {
   "display_name": "Python 3 (ipykernel)",
   "language": "python",
   "name": "python3"
  },
  "language_info": {
   "codemirror_mode": {
    "name": "ipython",
    "version": 3
   },
   "file_extension": ".py",
   "mimetype": "text/x-python",
   "name": "python",
   "nbconvert_exporter": "python",
   "pygments_lexer": "ipython3",
   "version": "3.12.4"
  }
 },
 "nbformat": 4,
 "nbformat_minor": 5
}
