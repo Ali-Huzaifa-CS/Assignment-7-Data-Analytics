{
 "cells": [
  {
   "cell_type": "code",
   "execution_count": 1,
   "id": "094cfda0-28e6-4498-a1b1-113eeab5c554",
   "metadata": {},
   "outputs": [
    {
     "name": "stdout",
     "output_type": "stream",
     "text": [
      "Details of Employee\n",
      "Name :  Ali Huzaifa\n",
      "Number :  03002981811\n",
      "Address  :  Gulshan e Iqbal\n",
      "\n",
      "\n"
     ]
    }
   ],
   "source": [
    "def describe_employee(name,number, address, salary, post, year_of_joining, education,experience):\n",
    "    print(\"Details of Employee\")\n",
    "    print(\"Name : \",name)\n",
    "    print(\"Number : \", number)\n",
    "    print(\"Address  : \",address)\n",
    "    print(\"\")\n",
    "    # print(\"Salary : \",salary)\n",
    "    # print(\"Post : \",post)\n",
    "    # print(\"Year of Joining : \",year_of_joining)\n",
    "    # print(\"Education : \",education)\n",
    "    # print(\"Experience : \",experience ,\"Years\")\n",
    "    # print()\n",
    "\n",
    "def increase_salary(salary,increment):\n",
    "    salary = salary + increment\n",
    "    print(\"Updated Salary : \",salary)\n",
    "\n",
    "def update_year_of_experience(experience, inc_exp):\n",
    "    experience += inc_exp\n",
    "    print(\"Updated Experience : \", experience, \"Years\")\n",
    "\n",
    "\n",
    "\n",
    "name = \"Ali Huzaifa\"\n",
    "number = \"03002981811\"\n",
    "address = \"Gulshan e Iqbal\"\n",
    "salary = 100000\n",
    "education = \"BSCS\"\n",
    "year_of_joining = 2023\n",
    "post = \"Manager\"\n",
    "experience = 5\n",
    "\n",
    "describe_employee(name,number, address, salary, post, year_of_joining, education,experience)\n",
    "print()"
   ]
  },
  {
   "cell_type": "code",
   "execution_count": 3,
   "id": "bdc631bf-c042-4d22-b4d9-409cc1e052f4",
   "metadata": {},
   "outputs": [
    {
     "name": "stdout",
     "output_type": "stream",
     "text": [
      "Updated Salary :  150000\n"
     ]
    }
   ],
   "source": [
    "increase_salary(salary,50000)"
   ]
  },
  {
   "cell_type": "code",
   "execution_count": 5,
   "id": "9bf4c68e-1271-4f37-a120-3114ca6d9b3a",
   "metadata": {},
   "outputs": [
    {
     "name": "stdout",
     "output_type": "stream",
     "text": [
      "Updated Experience :  7 Years\n"
     ]
    }
   ],
   "source": [
    "update_year_of_experience(experience,2)"
   ]
  },
  {
   "cell_type": "code",
   "execution_count": 7,
   "id": "9cf262c2-cd60-4a5a-bbda-07668a654fd4",
   "metadata": {},
   "outputs": [
    {
     "name": "stdout",
     "output_type": "stream",
     "text": [
      "Details of Employee\n",
      "Name :  Ali Huzaifa\n",
      "Number :  03002981811\n",
      "Address  :  Gulshan e Iqbal\n",
      "\n",
      "Details of Employee\n",
      "Name :  Ali Huzaifa\n",
      "Number :  03002981811\n",
      "Address  :  Gulshan e Iqbal\n",
      "\n",
      "Details of Employee\n",
      "Name :  Ali Huzaifa\n",
      "Number :  03002981811\n",
      "Address  :  Gulshan e Iqbal\n",
      "\n",
      "Details of Employee\n",
      "Name :  Ali Huzaifa\n",
      "Number :  03002981811\n",
      "Address  :  Gulshan e Iqbal\n",
      "\n",
      "Details of Employee\n",
      "Name :  Ali Huzaifa\n",
      "Number :  03002981811\n",
      "Address  :  Gulshan e Iqbal\n",
      "\n",
      "Details of Employee\n",
      "Name :  Ali Huzaifa\n",
      "Number :  03002981811\n",
      "Address  :  Gulshan e Iqbal\n",
      "\n",
      "Details of Employee\n",
      "Name :  Ali Huzaifa\n",
      "Number :  03002981811\n",
      "Address  :  Gulshan e Iqbal\n",
      "\n",
      "Details of Employee\n",
      "Name :  Ali Huzaifa\n",
      "Number :  03002981811\n",
      "Address  :  Gulshan e Iqbal\n",
      "\n",
      "Details of Employee\n",
      "Name :  Ali Huzaifa\n",
      "Number :  03002981811\n",
      "Address  :  Gulshan e Iqbal\n",
      "\n",
      "Details of Employee\n",
      "Name :  Ali Huzaifa\n",
      "Number :  03002981811\n",
      "Address  :  Gulshan e Iqbal\n",
      "\n"
     ]
    }
   ],
   "source": [
    "employee_list = [[\"Ali\", \"0315000011\", \"Gulshan\", 100000, \"Manager\", 2023, \"BBA\", 5],\n",
    "                 [\"Sufyan\", \"0315000011\", \"Nazimabad\", 50000, \"Developer\", 2023, \"BSCS\", 5],\n",
    "                 [\"Ahmed\", \"0315000011\", \"DHA\", 200000, \"Sales Manager\", 2023, \"BSDM\", 5],\n",
    "                 [\"Umer\", \"0315000011\", \"Jauhar\", 25000, \"Developer\", 2023, \"BSSE\", 5],\n",
    "                 [\"Rafay\", \"0315000011\", \"Gulshan\", 150000, \"Data Analyst\", 2023, \"BSDS\", 5],\n",
    "                 [\"Murtaza\", \"0315000011\", \"Clifton\", 60000, \"IT Dep\", 2023, \"BSIT\", 5],\n",
    "                 [\"Jawaid\", \"0315000011\", \"F.B Area\", 75000, \"Sales\", 2023, \"BCOM\", 5],\n",
    "                 [\"Maryam\", \"0315000011\", \"Gulberg\", 30000, \"Developer\", 2023, \"BSCS\", 5],\n",
    "                 [\"Ayan\", \"0315000011\", \"Nazimabad\", 80000, \"HR Manager\", 2023, \"BBA\", 5],\n",
    "                 [\"Sara\", \"0315000011\", \"DHA\", 500000, \"Data Scientist\", 2023, \"BSDS\", 5]\n",
    "                ]\n",
    "\n",
    "\n",
    "for emp in employee_list:\n",
    "    describe_employee(name,number, address, salary, post, year_of_joining, education,experience)"
   ]
  },
  {
   "cell_type": "code",
   "execution_count": null,
   "id": "ba015c65-b58a-4796-a16d-4d478bf4be8e",
   "metadata": {},
   "outputs": [],
   "source": []
  }
 ],
 "metadata": {
  "kernelspec": {
   "display_name": "Python 3 (ipykernel)",
   "language": "python",
   "name": "python3"
  },
  "language_info": {
   "codemirror_mode": {
    "name": "ipython",
    "version": 3
   },
   "file_extension": ".py",
   "mimetype": "text/x-python",
   "name": "python",
   "nbconvert_exporter": "python",
   "pygments_lexer": "ipython3",
   "version": "3.12.4"
  }
 },
 "nbformat": 4,
 "nbformat_minor": 5
}
